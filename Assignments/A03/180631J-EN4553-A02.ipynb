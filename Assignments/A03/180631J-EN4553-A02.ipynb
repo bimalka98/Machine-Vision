{
 "cells": [
  {
   "cell_type": "markdown",
   "metadata": {},
   "source": [
    "<h3 align=\"center\">Assignment 3: EN4553 (Machine Vision)</h3>\n",
    "<p align=\"center\">University of Moratuwa<br>January 1, 2023</p><br>"
   ]
  },
  {
   "cell_type": "code",
   "execution_count": 3,
   "metadata": {},
   "outputs": [],
   "source": [
    "# impoting required libraries\n",
    "import matplotlib.pyplot as plt\n",
    "from pathlib import Path\n",
    "\n",
    "# setting parameters for pretty figures\n",
    "plt.rc('font', size=14)\n",
    "plt.rc('axes', labelsize=14, titlesize=14)\n",
    "plt.rc('legend', fontsize=14)\n",
    "plt.rc('xtick', labelsize=10)\n",
    "plt.rc('ytick', labelsize=10)\n",
    "\n",
    "# fucntion to save figures\n",
    "IMAGES_PATH = Path() / \"images\"\n",
    "IMAGES_PATH.mkdir(parents=True, exist_ok=True)\n",
    "\n",
    "def save_fig(fig_id, tight_layout=True, fig_extension=\"png\", resolution=300):\n",
    "    path = IMAGES_PATH / f\"{fig_id}.{fig_extension}\"\n",
    "    if tight_layout:\n",
    "        plt.tight_layout()\n",
    "    plt.savefig(path, format=fig_extension, dpi=resolution)"
   ]
  },
  {
   "cell_type": "markdown",
   "metadata": {},
   "source": [
    "(a) (5 points) Complete the following Python function to read the dataset as a set of arrays. (Hint: you may use the   `np.loadtxt()` function.)"
   ]
  },
  {
   "cell_type": "code",
   "execution_count": 4,
   "metadata": {},
   "outputs": [],
   "source": [
    "import numpy as np\n",
    "from typing import Tuple\n",
    "def load_dataset( src_dir: str ) -> Tuple[np.ndarray, np.ndarray, np.ndarray, np.ndarray, np.ndarray]:\n",
    "    \"\"\"Load the dataset as a set of numpy arrays.\n",
    "    Args:\n",
    "        src_dir: Directory where dataset files are stored.\n",
    "    Returns:\n",
    "        (x_train, y_train, x_val, y_val, x_test) tuple where each array is one dimensional.\n",
    "    \"\"\"\n",
    "    # reading data from the files\n",
    "    x_train = np.loadtxt(src_dir + \"/x_train.txt\")\n",
    "    y_train = np.loadtxt(src_dir + \"/y_train.txt\")\n",
    "    x_val   = np.loadtxt(src_dir + \"/x_val.txt\")\n",
    "    y_val   = np.loadtxt(src_dir + \"/y_val.txt\")\n",
    "    x_test  = np.loadtxt(src_dir + \"/x_test.txt\")\n",
    "    \n",
    "    # returning as a tuple\n",
    "    return (x_train, y_train, x_val, y_val, x_test)"
   ]
  },
  {
   "cell_type": "code",
   "execution_count": 5,
   "metadata": {},
   "outputs": [
    {
     "data": {
      "image/png": "[encoded data removed]",
      "text/plain": [
       "<Figure size 600x400 with 1 Axes>"
      ]
     },
     "metadata": {},
     "output_type": "display_data"
    },
    {
     "name": "stdout",
     "output_type": "stream",
     "text": [
      "Trainging Dataset size:  (25,)\n"
     ]
    }
   ],
   "source": [
    "# visualizing input training data\n",
    "dataset = load_dataset(\"180631J\")\n",
    "plt.figure(figsize=(6, 4))\n",
    "plt.plot(dataset[0], dataset[1], \"b.\")\n",
    "plt.xlabel(\"$x_{train}$\")\n",
    "plt.ylabel(\"$y_{train}$\", rotation=90)\n",
    "plt.grid()\n",
    "save_fig(\"training_data\")\n",
    "plt.show()\n",
    "\n",
    "print(\"Trainging Dataset size: \", dataset[0].shape)"
   ]
  },
  {
   "cell_type": "markdown",
   "metadata": {},
   "source": [
    "(b) We will be fitting a linear regression model $y=\\sum_{i=1}^{n} w_i x^i $ where each $w_i$ is a learnable parameter and n is\n",
    "a hyperparameter. Variables x and y represent rows in `x_train.txt` and `y_train.txt`.\n",
    "\n",
    "i. (5 points) Implement the following function to make input features for the above linear regression model."
   ]
  },
  {
   "cell_type": "code",
   "execution_count": 6,
   "metadata": {},
   "outputs": [],
   "source": [
    "def get_features(x: np.ndarray, n: int) -> np.ndarray:\n",
    "    \"\"\"Creates n-th degree polynomial features for the given vector x.\n",
    "    Example usage:\n",
    "    get_features(np.array([1.0, 2.0, 3.0]), 3) outputs\n",
    "    np.array([  [ 1., 1., 1.],\n",
    "                [ 2., 4., 8.],\n",
    "                [ 3., 9., 27.]])\n",
    "    Args:\n",
    "        x: A numpy array of shape (num_examples, ) or (num_examples, 1).\n",
    "        n: The degree of the polynomial features.\n",
    "    Returns:\n",
    "        A matrix of shape (num_examples, n) where the j-th column is equal to\n",
    "        the vector x raised, elementwise, to the power j.\n",
    "    \"\"\"\n",
    "    \n",
    "    # create an array of powers \n",
    "    powers = np.arange(1, n+1)\n",
    "\n",
    "    # reshape x to have the shape (num_examples, 1) to be compatible with np.power broadcasing\n",
    "    x = x.reshape(-1, 1)\n",
    "\n",
    "    # construct the design matrix of shape (num_examples, n)\n",
    "    design_matrix = np.power(x, powers)\n",
    "\n",
    "    # return the design matrix\n",
    "    return design_matrix"
   ]
  },
  {
   "cell_type": "code",
   "execution_count": 7,
   "metadata": {},
   "outputs": [
    {
     "name": "stdout",
     "output_type": "stream",
     "text": [
      "Design matrix shape  (25, 3)\n"
     ]
    }
   ],
   "source": [
    "mat = get_features(dataset[0], 3)\n",
    "print(\"Design matrix shape \" ,mat.shape)"
   ]
  },
  {
   "cell_type": "markdown",
   "metadata": {},
   "source": [
    "ii. (10 points) Use the above function to complete the following implementation. (Hint: you may use the `sklearn.linear_model.LinearRegression` class.)"
   ]
  },
  {
   "cell_type": "code",
   "execution_count": 11,
   "metadata": {},
   "outputs": [],
   "source": [
    "import sklearn\n",
    "from sklearn.preprocessing import add_dummy_feature\n",
    "from sklearn.linear_model import LinearRegression\n",
    "from sklearn.metrics import mean_squared_error\n",
    "\n",
    "def fit_and_evaluate(\n",
    "x_train: np.ndarray, y_train: np.ndarray,\n",
    "x_val: np.ndarray, y_val: np.ndarray,\n",
    "n: int\n",
    ") -> Tuple[float, float]:\n",
    "    \"\"\"Fits an n-th degree polynomial and outputs train and validation MSE.\n",
    "    Fits a linear regression model y = sum_{i=1}^n w_i x^i to the given train\n",
    "    set and outputs the mean-squared-error (MSE) on train and validation sets.\n",
    "    Args:\n",
    "    x_train: Input features for the train set. Has shape (num_train, )\n",
    "    y_train: Targets (labels) for the train set. Has shape (num_train, )\n",
    "    x_val: Input features for the validation set. Has shape (num_val, )\n",
    "    y_val: Targets (labels) for the validation set. Has shape (num_val, )\n",
    "    n: The degree of the polynomial fit. See the above equation.\n",
    "    Returns:\n",
    "    (train_mse, val_mse), tuple of MSE on train and validation sets.\n",
    "    \"\"\"\n",
    "    # Fit the model on the train set.\n",
    "\n",
    "    # Generating polynomial features using the defined function\n",
    "    x_poly_train = get_features(x_train, n)\n",
    "    x_poly_val = get_features(x_val, n)\n",
    "\n",
    "    # add x0 = 1 to each instance\n",
    "    design_matrix_train = add_dummy_feature(x_poly_train)  \n",
    "    design_matrix_val = add_dummy_feature(x_poly_val)\n",
    "    \n",
    "    # Fitting a linear regression model to the desgn matrix of training set\n",
    "    lin_reg = LinearRegression()\n",
    "    lin_reg.fit(design_matrix_train, y_train)\n",
    "\n",
    "    # Generate model predictions for the train set and calculate the MSE.\n",
    "    y_predict_train = lin_reg.predict(design_matrix_train)\n",
    "    train_mse = mean_squared_error(y_train, y_predict_train)\n",
    "\n",
    "    # Similarly, calculate the MSE on the val set.\n",
    "    y_predict_val = lin_reg.predict(design_matrix_val)\n",
    "    val_mse = mean_squared_error(y_val, y_predict_val)\n",
    "    \n",
    "    return train_mse, val_mse"
   ]
  },
  {
   "cell_type": "code",
   "execution_count": 16,
   "metadata": {},
   "outputs": [
    {
     "name": "stdout",
     "output_type": "stream",
     "text": [
      "0.001874996939462714 0.0028926558958966607\n"
     ]
    }
   ],
   "source": [
    "train_mse, val_mse = fit_and_evaluate(dataset[0], dataset[1], dataset[2], dataset[3], 5)\n",
    "\n",
    "print(train_mse, val_mse)"
   ]
  },
  {
   "cell_type": "markdown",
   "metadata": {},
   "source": [
    "(c) (5 points) Use the above function to calculate and plot train and validations MSEs against n = 1, 2, . . . , 10.\n",
    "Include this graph in your answer sheet. Which n value would you pick for your final model?"
   ]
  },
  {
   "cell_type": "markdown",
   "metadata": {},
   "source": [
    "(d) (5 points) Use the model selected above to make predictions on the test set. Include your predictions in a\n",
    "file named `<your-index-number>_y_predict_test.txt`. For example, `180000X_y_predict_test.txt`."
   ]
  },
  {
   "cell_type": "code",
   "execution_count": null,
   "metadata": {},
   "outputs": [],
   "source": []
  }
 ],
 "metadata": {
  "kernelspec": {
   "display_name": "Python 3.9.15 ('ai')",
   "language": "python",
   "name": "python3"
  },
  "language_info": {
   "codemirror_mode": {
    "name": "ipython",
    "version": 3
   },
   "file_extension": ".py",
   "mimetype": "text/x-python",
   "name": "python",
   "nbconvert_exporter": "python",
   "pygments_lexer": "ipython3",
   "version": "3.9.15"
  },
  "vscode": {
   "interpreter": {
    "hash": "6a2c045f2642c901d9043084efcf28281325a48eb6aca5d444989989ae44e7c9"
   }
  }
 },
 "nbformat": 4,
 "nbformat_minor": 4
}
