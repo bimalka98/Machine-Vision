{
 "cells": [
  {
   "cell_type": "markdown",
   "metadata": {},
   "source": [
    "<h3 align=\"center\">Assignment 3: EN4553 (Machine Vision)</h3>\n",
    "<p align=\"center\">University of Moratuwa<br>January 1, 2023</p><br>\n",
    "(a) (5 points) Complete the following Python function to read the dataset as a set of arrays. (Hint: you may use the   `np.loadtxt()` function.)"
   ]
  },
  {
   "cell_type": "code",
   "execution_count": 12,
   "metadata": {},
   "outputs": [],
   "source": [
    "import numpy as np\n",
    "from typing import Tuple\n",
    "def load_dataset( src_dir: str ) -> Tuple[np.ndarray, np.ndarray, np.ndarray, np.ndarray, np.ndarray]:\n",
    "    \"\"\"Load the dataset as a set of numpy arrays.\n",
    "    Args:\n",
    "        src_dir: Directory where dataset files are stored.\n",
    "    Returns:\n",
    "        (x_train, y_train, x_val, y_val, x_test) tuple where each array is one dimensional.\n",
    "    \"\"\"\n",
    "    # reading data from the files\n",
    "    x_train = np.loadtxt(src_dir + \"/x_train.txt\")\n",
    "    y_train = np.loadtxt(src_dir + \"/y_train.txt\")\n",
    "    x_val   = np.loadtxt(src_dir + \"/x_val.txt\")\n",
    "    y_val   = np.loadtxt(src_dir + \"/y_val.txt\")\n",
    "    x_test  = np.loadtxt(src_dir + \"/x_test.txt\")\n",
    "    \n",
    "    # returning as a tuple\n",
    "    return (x_train, y_train, x_val, y_val, x_test)"
   ]
  },
  {
   "cell_type": "code",
   "execution_count": 20,
   "metadata": {},
   "outputs": [
    {
     "name": "stdout",
     "output_type": "stream",
     "text": [
      "25\n",
      "<class 'tuple'>\n",
      "[0.48912537 0.86703863 0.31662514 0.05414282 0.84226423 0.47318818\n",
      " 0.35198499 0.75490536 0.57628842 0.97492467 0.44388158 0.0404764\n",
      " 0.03644696 0.95521642 0.36810051 0.09351638 0.68300352 0.28589151\n",
      " 0.15912733 0.19551489 0.68254875 0.82677867 0.16370857 0.17477055\n",
      " 0.25375125]\n"
     ]
    }
   ],
   "source": [
    "dataset = load_dataset(\"180631J\")\n",
    "print(dataset[0].shape[0])\n",
    "print(type(dataset))\n",
    "print(dataset[0])"
   ]
  },
  {
   "cell_type": "markdown",
   "metadata": {},
   "source": [
    "(b) We will be fitting a linear regression model $y=\\sum_{i=1}^{n} w_i x^i $ where each $w_i$ is a learnable parameter and n is\n",
    "a hyperparameter. Variables x and y represent rows in `x_train.txt` and `y_train.txt`.\n",
    "\n",
    "i. (5 points) Implement the following function to make input features for the above linear regression model."
   ]
  },
  {
   "cell_type": "code",
   "execution_count": 41,
   "metadata": {},
   "outputs": [],
   "source": [
    "def get_features(x: np.ndarray, n: int) -> np.ndarray:\n",
    "    \"\"\"Creates n-th degree polynomial features for the given vector x.\n",
    "    Example usage:\n",
    "    get_features(np.array([1.0, 2.0, 3.0]), 3) outputs\n",
    "    np.array([  [ 1., 1., 1.],\n",
    "                [ 2., 4., 8.],\n",
    "                [ 3., 9., 27.]])\n",
    "    Args:\n",
    "        x: A numpy array of shape (num_examples, ) or (num_examples, 1).\n",
    "        n: The degree of the polynomial features.\n",
    "    Returns:\n",
    "        A matrix of shape (num_examples, n) where the j-th column is equal to\n",
    "        the vector x raised, elementwise, to the power j.\n",
    "    \"\"\"\n",
    "    \n",
    "    # create an array of powers \n",
    "    powers = np.arange(1, n+1)\n",
    "\n",
    "    # reshape x to have the shape (num_examples, 1) to be compatible with np.power broadcasing\n",
    "    x = x.reshape(-1, 1)\n",
    "\n",
    "    # construct the design matrix of shape (num_examples, n)\n",
    "    design_matrix = np.power(x, powers)\n",
    "\n",
    "    # return the design matrix\n",
    "    return design_matrix"
   ]
  },
  {
   "cell_type": "code",
   "execution_count": 42,
   "metadata": {},
   "outputs": [
    {
     "name": "stdout",
     "output_type": "stream",
     "text": [
      "(25, 3)\n",
      "[[4.89125368e-01 2.39243625e-01 1.17020126e-01]\n",
      " [8.67038626e-01 7.51755979e-01 6.51801471e-01]\n",
      " [3.16625142e-01 1.00251481e-01 3.17421393e-02]\n",
      " [5.41428233e-02 2.93144532e-03 1.58716726e-04]\n",
      " [8.42264233e-01 7.09409039e-01 5.97509860e-01]\n",
      " [4.73188183e-01 2.23907057e-01 1.05950174e-01]\n",
      " [3.51984989e-01 1.23893433e-01 4.36086286e-02]\n",
      " [7.54905359e-01 5.69882101e-01 4.30207052e-01]\n",
      " [5.76288420e-01 3.32108343e-01 1.91390192e-01]\n",
      " [9.74924671e-01 9.50478114e-01 9.26644563e-01]\n",
      " [4.43881576e-01 1.97030854e-01 8.74583660e-02]\n",
      " [4.04764027e-02 1.63833918e-03 6.63140763e-05]\n",
      " [3.64469617e-02 1.32838102e-03 4.84154522e-05]\n",
      " [9.55216418e-01 9.12438406e-01 8.71576146e-01]\n",
      " [3.68100506e-01 1.35497982e-01 4.98768758e-02]\n",
      " [9.35163812e-02 8.74531355e-03 8.17830075e-04]\n",
      " [6.83003517e-01 4.66493804e-01 3.18616909e-01]\n",
      " [2.85891515e-01 8.17339583e-02 2.33670452e-02]\n",
      " [1.59127333e-01 2.53215081e-02 4.02934405e-03]\n",
      " [1.95514889e-01 3.82260717e-02 7.47376616e-03]\n",
      " [6.82548746e-01 4.65872791e-01 3.17980889e-01]\n",
      " [8.26778673e-01 6.83562974e-01 5.65155288e-01]\n",
      " [1.63708567e-01 2.68004948e-02 4.38747058e-03]\n",
      " [1.74770547e-01 3.05447440e-02 5.33832162e-03]\n",
      " [2.53751254e-01 6.43896990e-02 1.63389669e-02]]\n"
     ]
    }
   ],
   "source": [
    "mat = get_features(dataset[0], 3)\n",
    "print(mat.shape)\n",
    "print(mat)"
   ]
  },
  {
   "cell_type": "markdown",
   "metadata": {},
   "source": [
    "ii. (10 points) Use the above function to complete the following implementation. (Hint: you may use the `sklearn.linear_model.LinearRegression` class.)"
   ]
  },
  {
   "cell_type": "code",
   "execution_count": 3,
   "metadata": {},
   "outputs": [],
   "source": [
    "def fit_and_evaluate(\n",
    "x_train: np.ndarray, y_train: np.ndarray,\n",
    "x_val: np.ndarray, y_val: np.ndarray,\n",
    "n: int\n",
    ") -> Tuple[float, float]:\n",
    "    \"\"\"Fits an n-th degree polynomial and outputs train and validation MSE.\n",
    "    Fits a linear regression model y = sum_{i=1}^n w_i x^i to the given train\n",
    "    set and outputs the mean-squared-error (MSE) on train and validation sets.\n",
    "    Args:\n",
    "    x_train: Input features for the train set. Has shape (num_train, )\n",
    "    y_train: Targets (labels) for the train set. Has shape (num_train, )\n",
    "    x_val: Input features for the validation set. Has shape (num_val, )\n",
    "    y_val: Targets (labels) for the validation set. Has shape (num_val, )\n",
    "    n: The degree of the polynomial fit. See the above equation.\n",
    "    Returns:\n",
    "    (train_mse, val_mse), tuple of MSE on train and validation sets.\n",
    "    \"\"\"\n",
    "    # Fit the mode  l on the train set.\n",
    "    pass\n",
    "    # Generate model predictions for the train set and calculate the MSE.\n",
    "    y_predict_train = ...\n",
    "    train_mse = mse(y_train, y_predict_train)\n",
    "    # Similarly, calculate the MSE on the val set.\n",
    "    val_mse = ...\n",
    "    return train_mse, val_mse"
   ]
  },
  {
   "cell_type": "markdown",
   "metadata": {},
   "source": [
    "(c) (5 points) Use the above function to calculate and plot train and validations MSEs against n = 1, 2, . . . , 10.\n",
    "Include this graph in your answer sheet. Which n value would you pick for your final model?"
   ]
  },
  {
   "cell_type": "markdown",
   "metadata": {},
   "source": [
    "(d) (5 points) Use the model selected above to make predictions on the test set. Include your predictions in a\n",
    "file named `<your-index-number>_y_predict_test.txt`. For example, `180000X_y_predict_test.txt`."
   ]
  },
  {
   "cell_type": "code",
   "execution_count": null,
   "metadata": {},
   "outputs": [],
   "source": []
  }
 ],
 "metadata": {
  "kernelspec": {
   "display_name": "Python 3.9.15 ('ai')",
   "language": "python",
   "name": "python3"
  },
  "language_info": {
   "codemirror_mode": {
    "name": "ipython",
    "version": 3
   },
   "file_extension": ".py",
   "mimetype": "text/x-python",
   "name": "python",
   "nbconvert_exporter": "python",
   "pygments_lexer": "ipython3",
   "version": "3.9.15"
  },
  "vscode": {
   "interpreter": {
    "hash": "6a2c045f2642c901d9043084efcf28281325a48eb6aca5d444989989ae44e7c9"
   }
  }
 },
 "nbformat": 4,
 "nbformat_minor": 4
}
