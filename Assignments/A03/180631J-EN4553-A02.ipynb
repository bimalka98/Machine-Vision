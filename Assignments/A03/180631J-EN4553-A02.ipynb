{
 "cells": [
  {
   "cell_type": "markdown",
   "metadata": {},
   "source": [
    "<h3 align=\"center\">©DownSampleMe</h3>\n",
    "Assignment 3: EN4553 (Machine Vision)\n",
    "University of Moratuwa\n",
    "January 1, 2023\n",
    "(a) (5 points) Complete the following Python function to read the dataset as a set of arrays. (Hint: you may use the   `np.loadtxt()` function.)"
   ]
  },
  {
   "cell_type": "code",
   "execution_count": null,
   "metadata": {},
   "outputs": [],
   "source": [
    "import numpy as np\n",
    "from typing import Tuple\n",
    "def load_dataset( src_dir: str ) -> Tuple[np.ndarray, np.ndarray, np.ndarray, np.ndarray, np.ndarray]:\n",
    "    \"\"\"Load the dataset as a set of numpy arrays.\n",
    "    Args:\n",
    "        src_dir: Directory where dataset files are stored.\n",
    "    Returns:\n",
    "        (x_train, y_train, x_val, y_val, x_test) tuple where each array is one dimensional.\n",
    "    \"\"\"\n",
    "    pass # Implement here."
   ]
  },
  {
   "cell_type": "markdown",
   "metadata": {},
   "source": [
    "(b) We will be fitting a linear regression model $y=\\sum_{i=1}^{n} w_i x^i $ where each $w_i$ is a learnable parameter and n is\n",
    "a hyperparameter. Variables x and y represent rows in `x_train.txt` and `y_train.txt`.\n",
    "\n",
    "i. (5 points) Implement the following function to make input features for the above linear regression model."
   ]
  },
  {
   "cell_type": "code",
   "execution_count": null,
   "metadata": {},
   "outputs": [],
   "source": [
    "def get_features(x: np.ndarray, n: int) -> np.ndarray:\n",
    "    \"\"\"Creates n-th degree polynomial features for the given vector x.\n",
    "    Example usage:\n",
    "    get_features(np.array([1.0, 2.0, 3.0]), 3) outputs\n",
    "    np.array([  [ 1., 1., 1.],\n",
    "                [ 2., 4., 8.],\n",
    "                [ 3., 9., 27.]])\n",
    "    Args:\n",
    "        x: A numpy array of shape (num_examples, ) or (num_examples, 1).\n",
    "        n: The degree of the polynomial features.\n",
    "    Returns:\n",
    "        A matrix of shape (num_examples, n) where the j-th column is equal to\n",
    "        the vector x raised, elementwise, to the power j.\n",
    "    \"\"\"\n",
    "    pass # Implement here."
   ]
  },
  {
   "cell_type": "markdown",
   "metadata": {},
   "source": [
    "ii. (10 points) Use the above function to complete the following implementation. (Hint: you may use the `sklearn.linear_model.LinearRegression` class.)"
   ]
  },
  {
   "cell_type": "code",
   "execution_count": null,
   "metadata": {},
   "outputs": [],
   "source": [
    "def fit_and_evaluate(\n",
    "x_train: np.ndarray, y_train: np.ndarray,\n",
    "x_val: np.ndarray, y_val: np.ndarray,\n",
    "n: int\n",
    ") -> Tuple[float, float]:\n",
    "    \"\"\"Fits an n-th degree polynomial and outputs train and validation MSE.\n",
    "    Fits a linear regression model y = sum_{i=1}^n w_i x^i to the given train\n",
    "    set and outputs the mean-squared-error (MSE) on train and validation sets.\n",
    "    Args:\n",
    "    x_train: Input features for the train set. Has shape (num_train, )\n",
    "    y_train: Targets (labels) for the train set. Has shape (num_train, )\n",
    "    x_val: Input features for the validation set. Has shape (num_val, )\n",
    "    y_val: Targets (labels) for the validation set. Has shape (num_val, )\n",
    "    n: The degree of the polynomial fit. See the above equation.\n",
    "    Returns:\n",
    "    (train_mse, val_mse), tuple of MSE on train and validation sets.\n",
    "    \"\"\"\n",
    "    # Fit the mode  l on the train set.\n",
    "    pass\n",
    "    # Generate model predictions for the train set and calculate the MSE.\n",
    "    y_predict_train = ...\n",
    "    train_mse = mse(y_train, y_predict_train)\n",
    "    # Similarly, calculate the MSE on the val set.\n",
    "    val_mse = ...\n",
    "    return train_mse, val_mse"
   ]
  },
  {
   "cell_type": "markdown",
   "metadata": {},
   "source": [
    "(c) (5 points) Use the above function to calculate and plot train and validations MSEs against n = 1, 2, . . . , 10.\n",
    "Include this graph in your answer sheet. Which n value would you pick for your final model?"
   ]
  },
  {
   "cell_type": "markdown",
   "metadata": {},
   "source": [
    "(d) (5 points) Use the model selected above to make predictions on the test set. Include your predictions in a\n",
    "file named `<your-index-number>_y_predict_test.txt`. For example, `180000X_y_predict_test.txt`."
   ]
  }
 ],
 "metadata": {
  "kernelspec": {
   "display_name": "Python 3.9.15 ('ai')",
   "language": "python",
   "name": "python3"
  },
  "language_info": {
   "name": "python",
   "version": "3.9.15"
  },
  "orig_nbformat": 4,
  "vscode": {
   "interpreter": {
    "hash": "6a2c045f2642c901d9043084efcf28281325a48eb6aca5d444989989ae44e7c9"
   }
  }
 },
 "nbformat": 4,
 "nbformat_minor": 2
}
